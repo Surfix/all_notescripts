{
 "cells": [
  {
   "cell_type": "code",
   "execution_count": 2,
   "metadata": {},
   "outputs": [
    {
     "ename": "",
     "evalue": "",
     "output_type": "error",
     "traceback": [
      "\u001b[1;31mCanceled future for execute_request message before replies were done"
     ]
    },
    {
     "ename": "",
     "evalue": "",
     "output_type": "error",
     "traceback": [
      "The Kernel crashed while executing code in the the current cell or a previous cell. Please review the code in the cell(s) to identify a possible cause of the failure. Click <a href='https://aka.ms/vscodeJupyterKernelCrash'>here</a> for more info. View Jupyter <a href='command:jupyter.viewOutput'>log</a> for further details."
     ]
    }
   ],
   "source": [
    "import rasterio\n",
    "import matplotlib.pyplot as plt\n",
    "import numpy as np\n",
    "\n",
    "# # Set the file paths for the snow depth and vegetation height rasters\n",
    "# snow_depth_files = [\"snow_depth_1.tif\", \"snow_depth_2.tif\",\n",
    "#                     \"snow_depth_3.tif\", \"snow_depth_4.tif\", \"snow_depth_5.tif\"]\n",
    "# vegetation_height_files = [\"vegetation_height_1.tif\", \"vegetation_height_2.tif\",\n",
    "#                            \"vegetation_height_3.tif\", \"vegetation_height_4.tif\", \"vegetation_height_5.tif\"]\n",
    "\n",
    "# Set the file paths for the snow depth and vegetation height rasters\n",
    "snow_depth_files = [\"/home/naheemadebisi/PhD/snow-analytics/lidar/20210310_MCS-canopy.tif\", \"/home/naheemadebisi/PhD/snow-analytics/lidar/20210310_MCS-canopy.tif\",\n",
    "                    \"/home/naheemadebisi/PhD/snow-analytics/lidar/20210310_MCS-canopy.tif\", \"/home/naheemadebisi/PhD/snow-analytics/lidar/20210310_MCS-canopy.tif\", \"/home/naheemadebisi/PhD/snow-analytics/lidar/20210310_MCS-canopy.tif\"]\n",
    "vegetation_height_files = [\"/home/naheemadebisi/PhD/snow-analytics/lidar/20210310_MCS-canopy.tif\", \"/home/naheemadebisi/PhD/snow-analytics/lidar/20210310_MCS-canopy.tif\",\n",
    "                           \"/home/naheemadebisi/PhD/snow-analytics/lidar/20210310_MCS-canopy.tif\", \"/home/naheemadebisi/PhD/snow-analytics/lidar/20210310_MCS-canopy.tif\", \"/home/naheemadebisi/PhD/snow-analytics/lidar/20210310_MCS-canopy.tif\"]\n",
    "\n",
    "# Set the figure size and axis properties\n",
    "fig, ax = plt.subplots(nrows=5, ncols=4, figsize=(16, 20))\n",
    "fig.tight_layout(pad=3.0)\n",
    "\n",
    "# Loop through each date and plot the snow depth and vegetation height rasters and histograms\n",
    "for i in range(5):\n",
    "    # Open the snow depth and vegetation height rasters for the current date\n",
    "    with rasterio.open(snow_depth_files[i]) as src:\n",
    "        snow_depth = src.read(1)\n",
    "    with rasterio.open(vegetation_height_files[i]) as src:\n",
    "        vegetation_height = src.read(1)\n",
    "\n",
    "    # Plot the snow depth and vegetation height rasters\n",
    "    ax[i, 0].imshow(snow_depth, cmap='Blues', vmin=0,\n",
    "                    vmax=np.nanpercentile(snow_depth, 99))\n",
    "    ax[i, 0].set_title(\"Snow Depth\")\n",
    "    ax[i, 1].imshow(vegetation_height, cmap='Greens', vmin=0,\n",
    "                    vmax=np.nanpercentile(vegetation_height, 99))\n",
    "    ax[i, 1].set_title(\"Vegetation Height\")\n",
    "\n",
    "    # Plot the histograms for the snow depth and vegetation height\n",
    "    ax[i, 2].hist(snow_depth.flatten(), bins=50, range=[\n",
    "                  0, np.nanpercentile(snow_depth, 99)])\n",
    "    ax[i, 2].set_title(\"Snow Depth Histogram\")\n",
    "    ax[i, 3].hist(vegetation_height.flatten(), bins=50, range=[\n",
    "                  0, np.nanpercentile(vegetation_height, 99)])\n",
    "    ax[i, 3].set_title(\"Vegetation Height Histogram\")\n",
    "\n",
    "    # Add x and y axis labels to the histograms\n",
    "    ax[i, 2].set_xlabel(\"Snow Depth\")\n",
    "    ax[i, 2].set_ylabel(\"Frequency\")\n",
    "    ax[i, 3].set_xlabel(\"Vegetation Height\")\n",
    "    ax[i, 3].set_ylabel(\"Frequency\")\n",
    "\n",
    "    # Add a colorbar to the raster plots\n",
    "    fig.colorbar(ax[i, 0].imshow(snow_depth, cmap='Blues', vmin=0,\n",
    "                 vmax=np.nanpercentile(snow_depth, 99)), ax=ax[i, 0])\n",
    "    fig.colorbar(ax[i, 1].imshow(vegetation_height, cmap='Greens', vmin=0,\n",
    "                 vmax=np.nanpercentile(vegetation_height, 99)), ax=ax[i, 1])\n",
    "\n",
    "    # Add a title to the row\n",
    "    ax[i, 0].set_ylabel(f\"Date {i+1}\", rotation=0, size='large', labelpad=50)\n"
   ]
  },
  {
   "cell_type": "code",
   "execution_count": null,
   "metadata": {},
   "outputs": [],
   "source": []
  }
 ],
 "metadata": {
  "kernelspec": {
   "display_name": "Python 3.8.12 ('earth-analytics-python')",
   "language": "python",
   "name": "python3"
  },
  "language_info": {
   "codemirror_mode": {
    "name": "ipython",
    "version": 3
   },
   "file_extension": ".py",
   "mimetype": "text/x-python",
   "name": "python",
   "nbconvert_exporter": "python",
   "pygments_lexer": "ipython3",
   "version": "3.8.12"
  },
  "orig_nbformat": 4,
  "vscode": {
   "interpreter": {
    "hash": "4a6b17c43e9812396a6a5107d266d4edbe6eaa1adb1fd72c08be9ea32f828148"
   }
  }
 },
 "nbformat": 4,
 "nbformat_minor": 2
}
