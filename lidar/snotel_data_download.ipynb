{
 "cells": [
  {
   "cell_type": "code",
   "execution_count": 3,
   "metadata": {},
   "outputs": [
    {
     "ename": "ImportError",
     "evalue": "cannot import name 'SnotelRequester' from 'metloom' (/home/naheemadebisi/miniconda3/envs/earth-analytics-python/lib/python3.8/site-packages/metloom/__init__.py)",
     "output_type": "error",
     "traceback": [
      "\u001b[0;31m---------------------------------------------------------------------------\u001b[0m",
      "\u001b[0;31mImportError\u001b[0m                               Traceback (most recent call last)",
      "\u001b[0;32m/tmp/ipykernel_348272/4127093945.py\u001b[0m in \u001b[0;36m<module>\u001b[0;34m\u001b[0m\n\u001b[1;32m      1\u001b[0m \u001b[0;32mimport\u001b[0m \u001b[0mpandas\u001b[0m \u001b[0;32mas\u001b[0m \u001b[0mpd\u001b[0m\u001b[0;34m\u001b[0m\u001b[0;34m\u001b[0m\u001b[0m\n\u001b[1;32m      2\u001b[0m \u001b[0;32mfrom\u001b[0m \u001b[0mdatetime\u001b[0m \u001b[0;32mimport\u001b[0m \u001b[0mdate\u001b[0m\u001b[0;34m\u001b[0m\u001b[0;34m\u001b[0m\u001b[0m\n\u001b[0;32m----> 3\u001b[0;31m \u001b[0;32mfrom\u001b[0m \u001b[0mmetloom\u001b[0m \u001b[0;32mimport\u001b[0m \u001b[0mSnotelRequester\u001b[0m\u001b[0;34m\u001b[0m\u001b[0;34m\u001b[0m\u001b[0m\n\u001b[0m\u001b[1;32m      4\u001b[0m \u001b[0;34m\u001b[0m\u001b[0m\n\u001b[1;32m      5\u001b[0m \u001b[0;31m# specify the date range\u001b[0m\u001b[0;34m\u001b[0m\u001b[0;34m\u001b[0m\u001b[0;34m\u001b[0m\u001b[0m\n",
      "\u001b[0;31mImportError\u001b[0m: cannot import name 'SnotelRequester' from 'metloom' (/home/naheemadebisi/miniconda3/envs/earth-analytics-python/lib/python3.8/site-packages/metloom/__init__.py)"
     ]
    }
   ],
   "source": [
    "import pandas as pd\n",
    "from datetime import date\n",
    "from metloom import SnotelRequester\n",
    "\n",
    "# specify the date range\n",
    "start_date = date(2022, 1, 1)\n",
    "end_date = date(2022, 2, 1)\n",
    "\n",
    "# create a SnotelRequester object\n",
    "snotel_requester = SnotelRequester()\n",
    "\n",
    "# get a list of all SNOTEL stations in the Western US\n",
    "stations = snotel_requester.get_stations(\n",
    "    state=[\"CA\", \"NV\", \"OR\", \"WA\", \"ID\", \"MT\", \"WY\", \"CO\", \"NM\", \"UT\", \"AZ\"])\n",
    "\n",
    "# download the snow depth data for all stations within the specified date range\n",
    "df = snotel_requester.get_snotel_daily_data(\n",
    "    stations, start_date, end_date, data_elements=[\"SNWD\"])\n"
   ]
  },
  {
   "cell_type": "code",
   "execution_count": 2,
   "metadata": {},
   "outputs": [
    {
     "name": "stdout",
     "output_type": "stream",
     "text": [
      "Collecting metloom\n",
      "  Downloading metloom-0.3.5-py2.py3-none-any.whl (32 kB)\n",
      "Requirement already satisfied: pandas>1.0.0 in /home/naheemadebisi/miniconda3/envs/earth-analytics-python/lib/python3.8/site-packages (from metloom) (1.3.5)\n",
      "Requirement already satisfied: requests<3.0.0,>2.0.0 in /home/naheemadebisi/miniconda3/envs/earth-analytics-python/lib/python3.8/site-packages (from metloom) (2.28.1)\n",
      "Collecting lxml==4.9.1\n",
      "  Downloading lxml-4.9.1-cp38-cp38-manylinux_2_17_x86_64.manylinux2014_x86_64.manylinux_2_24_x86_64.whl (6.9 MB)\n",
      "     |████████████████████████████████| 6.9 MB 167 kB/s            \n",
      "\u001b[?25hRequirement already satisfied: geopandas<1.0.0,>=0.9.0 in /home/naheemadebisi/miniconda3/envs/earth-analytics-python/lib/python3.8/site-packages (from metloom) (0.12.1)\n",
      "Collecting zeep>4.0.0\n",
      "  Downloading zeep-4.2.1-py3-none-any.whl (101 kB)\n",
      "     |████████████████████████████████| 101 kB 4.4 MB/s            \n",
      "\u001b[?25hRequirement already satisfied: beautifulsoup4<5,>4 in /home/naheemadebisi/miniconda3/envs/earth-analytics-python/lib/python3.8/site-packages (from metloom) (4.11.1)\n",
      "Requirement already satisfied: soupsieve>1.2 in /home/naheemadebisi/miniconda3/envs/earth-analytics-python/lib/python3.8/site-packages (from beautifulsoup4<5,>4->metloom) (2.3.1)\n",
      "Requirement already satisfied: pyproj>=2.6.1.post1 in /home/naheemadebisi/miniconda3/envs/earth-analytics-python/lib/python3.8/site-packages (from geopandas<1.0.0,>=0.9.0->metloom) (3.2.1)\n",
      "Requirement already satisfied: fiona>=1.8 in /home/naheemadebisi/miniconda3/envs/earth-analytics-python/lib/python3.8/site-packages (from geopandas<1.0.0,>=0.9.0->metloom) (1.8.20)\n",
      "Requirement already satisfied: shapely>=1.7 in /home/naheemadebisi/miniconda3/envs/earth-analytics-python/lib/python3.8/site-packages (from geopandas<1.0.0,>=0.9.0->metloom) (1.7.1)\n",
      "Requirement already satisfied: packaging in /home/naheemadebisi/miniconda3/envs/earth-analytics-python/lib/python3.8/site-packages (from geopandas<1.0.0,>=0.9.0->metloom) (21.3)\n",
      "Requirement already satisfied: python-dateutil>=2.7.3 in /home/naheemadebisi/miniconda3/envs/earth-analytics-python/lib/python3.8/site-packages (from pandas>1.0.0->metloom) (2.8.0)\n",
      "Requirement already satisfied: pytz>=2017.3 in /home/naheemadebisi/miniconda3/envs/earth-analytics-python/lib/python3.8/site-packages (from pandas>1.0.0->metloom) (2022.1)\n",
      "Requirement already satisfied: numpy>=1.17.3 in /home/naheemadebisi/miniconda3/envs/earth-analytics-python/lib/python3.8/site-packages (from pandas>1.0.0->metloom) (1.21.2)\n",
      "Requirement already satisfied: charset-normalizer<3,>=2 in /home/naheemadebisi/miniconda3/envs/earth-analytics-python/lib/python3.8/site-packages (from requests<3.0.0,>2.0.0->metloom) (2.0.4)\n",
      "Requirement already satisfied: idna<4,>=2.5 in /home/naheemadebisi/miniconda3/envs/earth-analytics-python/lib/python3.8/site-packages (from requests<3.0.0,>2.0.0->metloom) (3.3)\n",
      "Requirement already satisfied: urllib3<1.27,>=1.21.1 in /home/naheemadebisi/miniconda3/envs/earth-analytics-python/lib/python3.8/site-packages (from requests<3.0.0,>2.0.0->metloom) (1.24.3)\n",
      "Requirement already satisfied: certifi>=2017.4.17 in /home/naheemadebisi/miniconda3/envs/earth-analytics-python/lib/python3.8/site-packages (from requests<3.0.0,>2.0.0->metloom) (2022.9.24)\n",
      "Collecting platformdirs>=1.4.0\n",
      "  Downloading platformdirs-3.0.0-py3-none-any.whl (14 kB)\n",
      "Collecting isodate>=0.5.4\n",
      "  Downloading isodate-0.6.1-py2.py3-none-any.whl (41 kB)\n",
      "     |████████████████████████████████| 41 kB 306 kB/s             \n",
      "\u001b[?25hRequirement already satisfied: attrs>=17.2.0 in /home/naheemadebisi/miniconda3/envs/earth-analytics-python/lib/python3.8/site-packages (from zeep>4.0.0->metloom) (21.4.0)\n",
      "Collecting requests-file>=1.5.1\n",
      "  Downloading requests_file-1.5.1-py2.py3-none-any.whl (3.7 kB)\n",
      "Collecting requests-toolbelt>=0.7.1\n",
      "  Downloading requests_toolbelt-0.10.1-py2.py3-none-any.whl (54 kB)\n",
      "     |████████████████████████████████| 54 kB 1.4 MB/s             \n",
      "\u001b[?25hRequirement already satisfied: click>=4.0 in /home/naheemadebisi/miniconda3/envs/earth-analytics-python/lib/python3.8/site-packages (from fiona>=1.8->geopandas<1.0.0,>=0.9.0->metloom) (8.0.4)\n",
      "Requirement already satisfied: cligj>=0.5 in /home/naheemadebisi/miniconda3/envs/earth-analytics-python/lib/python3.8/site-packages (from fiona>=1.8->geopandas<1.0.0,>=0.9.0->metloom) (0.7.2)\n",
      "Requirement already satisfied: click-plugins>=1.0 in /home/naheemadebisi/miniconda3/envs/earth-analytics-python/lib/python3.8/site-packages (from fiona>=1.8->geopandas<1.0.0,>=0.9.0->metloom) (1.1.1)\n",
      "Requirement already satisfied: six>=1.7 in /home/naheemadebisi/miniconda3/envs/earth-analytics-python/lib/python3.8/site-packages (from fiona>=1.8->geopandas<1.0.0,>=0.9.0->metloom) (1.16.0)\n",
      "Requirement already satisfied: munch in /home/naheemadebisi/miniconda3/envs/earth-analytics-python/lib/python3.8/site-packages (from fiona>=1.8->geopandas<1.0.0,>=0.9.0->metloom) (2.5.0)\n",
      "Requirement already satisfied: setuptools in /home/naheemadebisi/miniconda3/envs/earth-analytics-python/lib/python3.8/site-packages (from fiona>=1.8->geopandas<1.0.0,>=0.9.0->metloom) (61.2.0)\n",
      "Requirement already satisfied: pyparsing!=3.0.5,>=2.0.2 in /home/naheemadebisi/miniconda3/envs/earth-analytics-python/lib/python3.8/site-packages (from packaging->geopandas<1.0.0,>=0.9.0->metloom) (3.0.4)\n",
      "Installing collected packages: requests-toolbelt, requests-file, platformdirs, lxml, isodate, zeep, metloom\n",
      "  Attempting uninstall: lxml\n",
      "    Found existing installation: lxml 4.6.3\n",
      "    Uninstalling lxml-4.6.3:\n",
      "      Successfully uninstalled lxml-4.6.3\n",
      "Successfully installed isodate-0.6.1 lxml-4.9.1 metloom-0.3.5 platformdirs-3.0.0 requests-file-1.5.1 requests-toolbelt-0.10.1 zeep-4.2.1\n",
      "Note: you may need to restart the kernel to use updated packages.\n"
     ]
    }
   ],
   "source": [
    "pip install metloom"
   ]
  },
  {
   "cell_type": "code",
   "execution_count": null,
   "metadata": {},
   "outputs": [],
   "source": []
  }
 ],
 "metadata": {
  "kernelspec": {
   "display_name": "Python 3.8.12 ('earth-analytics-python')",
   "language": "python",
   "name": "python3"
  },
  "language_info": {
   "codemirror_mode": {
    "name": "ipython",
    "version": 3
   },
   "file_extension": ".py",
   "mimetype": "text/x-python",
   "name": "python",
   "nbconvert_exporter": "python",
   "pygments_lexer": "ipython3",
   "version": "3.8.12"
  },
  "orig_nbformat": 4,
  "vscode": {
   "interpreter": {
    "hash": "4a6b17c43e9812396a6a5107d266d4edbe6eaa1adb1fd72c08be9ea32f828148"
   }
  }
 },
 "nbformat": 4,
 "nbformat_minor": 2
}
