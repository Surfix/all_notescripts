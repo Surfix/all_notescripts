{
 "cells": [
  {
   "cell_type": "code",
   "execution_count": 1,
   "metadata": {},
   "outputs": [],
   "source": [
    "#import packages\n",
    "\n",
    "import pandas as pd\n",
    "import os\n",
    "import glob\n",
    "from os import path\n",
    "import shutil"
   ]
  },
  {
   "cell_type": "code",
   "execution_count": 2,
   "metadata": {},
   "outputs": [],
   "source": [
    "def rename(dir_in, clean_dir = False):\n",
    "    \"\"\"\n",
    "    This function renames the tiff files in a directory.\n",
    "    \"\"\"\n",
    "    #check if crop directory exists\n",
    "    dir_out = dir_in + '/renamed/'\n",
    "    if not os.path.exists(dir_out):\n",
    "        os.makedirs(dir_out)\n",
    "\n",
    "    #read the metadata from the csv file\n",
    "    metadata = pd.read_csv(glob.glob(dir_in + '/*grd.csv')[0]) #it gives a list, so select the only item in the list\n",
    "\n",
    "    #grab the start time of first acquisition for pass 1\n",
    "    date1 = (metadata.loc[0, 'start time of acquisition for pass 1']).split()[0]\n",
    "\n",
    "    #grab the start time of acquisition for pass 2\n",
    "    date2 = (metadata.loc[0, 'start time of acquisition for pass 2']).split()[0]\n",
    "\n",
    "\n",
    "    #loop through the files\n",
    "    for tiff in glob.glob(dir_in + '/*grd.tiff'):\n",
    "\n",
    "        #grab the site name from the tiff sting\n",
    "        file_name = (tiff.split('/')[-1]).split('_')[0]\n",
    "\n",
    "        #grab the last two sets of strings from the tiff name\n",
    "        set2 = (tiff.split('/')[-1]).split('_')[-2]\n",
    "        set1 = (tiff.split('/')[-1]).split('_')[-1]\n",
    "        new_name = dir_out + file_name + '_' + date1 + '_' + date2 + '_' + set2 + '_' + set1\n",
    "\n",
    "        if clean_dir == False:\n",
    "            shutil.copy(tiff, new_name)\n",
    "        elif clean_dir == True:\n",
    "            shutil.move(tiff, new_name)\n",
    "\n"
   ]
  },
  {
   "cell_type": "code",
   "execution_count": 24,
   "metadata": {},
   "outputs": [
    {
     "data": {
      "text/plain": [
       "['/SNOWDATA/Nah/all_uavsar_data/Amplitude/saltlake/stlake_09127_20011-005_20017-001_0020d_s01_L090_01_amp_grd',\n",
       " '/SNOWDATA/Nah/all_uavsar_data/Amplitude/saltlake/stlake_27129_20011-004_20017-000_0020d_s01_L090_01_amp_grd',\n",
       " '/SNOWDATA/Nah/all_uavsar_data/Amplitude/saltlake/stlake_09127_20007-005_20011-005_0008d_s01_L090_01_amp_grd',\n",
       " '/SNOWDATA/Nah/all_uavsar_data/Amplitude/saltlake/stlake_27129_20007-004_20011-004_0008d_s01_L090_01_amp_grd',\n",
       " '/SNOWDATA/Nah/all_uavsar_data/Amplitude/saltlake/stlake_09127_20002-009_20007-005_0013d_s01_L090_01_amp_grd',\n",
       " '/SNOWDATA/Nah/all_uavsar_data/Amplitude/saltlake/stlake_27129_20002-008_20007-004_0013d_s01_L090_01_amp_grd']"
      ]
     },
     "execution_count": 24,
     "metadata": {},
     "output_type": "execute_result"
    }
   ],
   "source": [
    "glob.glob('/SNOWDATA/Nah/all_uavsar_data/Amplitude/saltlake/*')"
   ]
  },
  {
   "cell_type": "code",
   "execution_count": 18,
   "metadata": {},
   "outputs": [],
   "source": [
    "#iterate over the folders u=in the directory\n",
    "dir_list = glob.glob('/home/naheemadebisi/PhD/snow-analytics/Radar-Backscatter/UAVSAR/saltlake/stlake_2021/*')\n",
    "for dir_ in dir_list:\n",
    "    rename(dir_, clean_dir = True)"
   ]
  },
  {
   "cell_type": "code",
   "execution_count": 17,
   "metadata": {},
   "outputs": [],
   "source": [
    "dir_ = '/home/naheemadebisi/PhD/snow-analytics/Radar-Backscatter/UAVSAR/RockyMountains/rockymountains_2021/rockmt_32109_21017-013_21021-001_0012d_s01_L090_01_amp_grd'\n",
    "rename(dir_, clean_dir = True)"
   ]
  },
  {
   "cell_type": "code",
   "execution_count": null,
   "metadata": {},
   "outputs": [],
   "source": []
  }
 ],
 "metadata": {
  "interpreter": {
   "hash": "4a6b17c43e9812396a6a5107d266d4edbe6eaa1adb1fd72c08be9ea32f828148"
  },
  "kernelspec": {
   "display_name": "Python 3.8.13 ('earth-analytics-python')",
   "language": "python",
   "name": "python3"
  },
  "language_info": {
   "codemirror_mode": {
    "name": "ipython",
    "version": 3
   },
   "file_extension": ".py",
   "mimetype": "text/x-python",
   "name": "python",
   "nbconvert_exporter": "python",
   "pygments_lexer": "ipython3",
   "version": "3.8.12"
  },
  "orig_nbformat": 4
 },
 "nbformat": 4,
 "nbformat_minor": 2
}
