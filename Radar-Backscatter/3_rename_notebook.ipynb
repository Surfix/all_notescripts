{
 "cells": [
  {
   "cell_type": "code",
   "execution_count": 1,
   "metadata": {},
   "outputs": [],
   "source": [
    "#import packages\n",
    "\n",
    "import pandas as pd\n",
    "import os\n",
    "import glob\n",
    "from os import path\n",
    "import shutil"
   ]
  },
  {
   "cell_type": "code",
   "execution_count": 2,
   "metadata": {},
   "outputs": [],
   "source": [
    "def rename(dir_in, clean_dir = False):\n",
    "    \"\"\"\n",
    "    This function renames the tiff files in a directory.\n",
    "    \"\"\"\n",
    "    #check if crop directory exists\n",
    "    dir_out = dir_in + '/renamed/'\n",
    "    if not os.path.exists(dir_out):\n",
    "        os.makedirs(dir_out)\n",
    "\n",
    "    #read the metadata from the csv file\n",
    "    metadata = pd.read_csv(glob.glob(dir_in + '/*grd.csv')[0]) #it gives a list, so select the only item in the list\n",
    "\n",
    "    #grab the start time of first acquisition for pass 1\n",
    "    date1 = (metadata.loc[0, 'start time of acquisition for pass 1']).split()[0]\n",
    "\n",
    "    #grab the start time of acquisition for pass 2\n",
    "    date2 = (metadata.loc[0, 'start time of acquisition for pass 2']).split()[0]\n",
    "\n",
    "\n",
    "    #loop through the files\n",
    "    for tiff in glob.glob(dir_in + '/*grd.tiff'):\n",
    "\n",
    "        #grab the site name from the tiff sting\n",
    "        file_name = (tiff.split('/')[-1]).split('_')[0]\n",
    "\n",
    "        #grab the last two sets of strings from the tiff name\n",
    "        set2 = (tiff.split('/')[-1]).split('_')[-2]\n",
    "        set1 = (tiff.split('/')[-1]).split('_')[-1]\n",
    "        new_name = dir_out + file_name + '_' + date1 + '_' + date2 + '_' + set2 + '_' + set1\n",
    "\n",
    "        if clean_dir == False:\n",
    "            shutil.copy(tiff, new_name)\n",
    "        elif clean_dir == True:\n",
    "            shutil.move(tiff, new_name)\n",
    "\n"
   ]
  },
  {
   "cell_type": "code",
   "execution_count": 24,
   "metadata": {},
   "outputs": [
    {
     "data": {
      "text/plain": [
       "['/SNOWDATA/Nah/all_uavsar_data/Amplitude/saltlake/stlake_09127_20011-005_20017-001_0020d_s01_L090_01_amp_grd',\n",
       " '/SNOWDATA/Nah/all_uavsar_data/Amplitude/saltlake/stlake_27129_20011-004_20017-000_0020d_s01_L090_01_amp_grd',\n",
       " '/SNOWDATA/Nah/all_uavsar_data/Amplitude/saltlake/stlake_09127_20007-005_20011-005_0008d_s01_L090_01_amp_grd',\n",
       " '/SNOWDATA/Nah/all_uavsar_data/Amplitude/saltlake/stlake_27129_20007-004_20011-004_0008d_s01_L090_01_amp_grd',\n",
       " '/SNOWDATA/Nah/all_uavsar_data/Amplitude/saltlake/stlake_09127_20002-009_20007-005_0013d_s01_L090_01_amp_grd',\n",
       " '/SNOWDATA/Nah/all_uavsar_data/Amplitude/saltlake/stlake_27129_20002-008_20007-004_0013d_s01_L090_01_amp_grd']"
      ]
     },
     "execution_count": 24,
     "metadata": {},
     "output_type": "execute_result"
    }
   ],
   "source": [
    "glob.glob('/SNOWDATA/Nah/all_uavsar_data/Amplitude/saltlake/*')"
   ]
  },
  {
   "cell_type": "code",
   "execution_count": 12,
   "metadata": {},
   "outputs": [
    {
     "ename": "NotADirectoryError",
     "evalue": "[Errno 20] Not a directory: '/home/naheemadebisi/PhD/snow-analytics/Radar-Backscatter/UAVSAR/Utica/utica_2021/Central Ag Research Center.png/renamed/'",
     "output_type": "error",
     "traceback": [
      "\u001b[0;31m---------------------------------------------------------------------------\u001b[0m",
      "\u001b[0;31mNotADirectoryError\u001b[0m                        Traceback (most recent call last)",
      "\u001b[0;32m/tmp/ipykernel_25385/3620380156.py\u001b[0m in \u001b[0;36m<module>\u001b[0;34m\u001b[0m\n\u001b[1;32m      2\u001b[0m \u001b[0mdir_list\u001b[0m \u001b[0;34m=\u001b[0m \u001b[0mglob\u001b[0m\u001b[0;34m.\u001b[0m\u001b[0mglob\u001b[0m\u001b[0;34m(\u001b[0m\u001b[0;34m'/home/naheemadebisi/PhD/snow-analytics/Radar-Backscatter/UAVSAR/Utica/utica_2021/*'\u001b[0m\u001b[0;34m)\u001b[0m\u001b[0;34m\u001b[0m\u001b[0;34m\u001b[0m\u001b[0m\n\u001b[1;32m      3\u001b[0m \u001b[0;32mfor\u001b[0m \u001b[0mdir_\u001b[0m \u001b[0;32min\u001b[0m \u001b[0mdir_list\u001b[0m\u001b[0;34m:\u001b[0m\u001b[0;34m\u001b[0m\u001b[0;34m\u001b[0m\u001b[0m\n\u001b[0;32m----> 4\u001b[0;31m     \u001b[0mrename\u001b[0m\u001b[0;34m(\u001b[0m\u001b[0mdir_\u001b[0m\u001b[0;34m,\u001b[0m \u001b[0mclean_dir\u001b[0m \u001b[0;34m=\u001b[0m \u001b[0;32mTrue\u001b[0m\u001b[0;34m)\u001b[0m\u001b[0;34m\u001b[0m\u001b[0;34m\u001b[0m\u001b[0m\n\u001b[0m",
      "\u001b[0;32m/tmp/ipykernel_25385/2138967047.py\u001b[0m in \u001b[0;36mrename\u001b[0;34m(dir_in, clean_dir)\u001b[0m\n\u001b[1;32m      6\u001b[0m     \u001b[0mdir_out\u001b[0m \u001b[0;34m=\u001b[0m \u001b[0mdir_in\u001b[0m \u001b[0;34m+\u001b[0m \u001b[0;34m'/renamed/'\u001b[0m\u001b[0;34m\u001b[0m\u001b[0;34m\u001b[0m\u001b[0m\n\u001b[1;32m      7\u001b[0m     \u001b[0;32mif\u001b[0m \u001b[0;32mnot\u001b[0m \u001b[0mos\u001b[0m\u001b[0;34m.\u001b[0m\u001b[0mpath\u001b[0m\u001b[0;34m.\u001b[0m\u001b[0mexists\u001b[0m\u001b[0;34m(\u001b[0m\u001b[0mdir_out\u001b[0m\u001b[0;34m)\u001b[0m\u001b[0;34m:\u001b[0m\u001b[0;34m\u001b[0m\u001b[0;34m\u001b[0m\u001b[0m\n\u001b[0;32m----> 8\u001b[0;31m         \u001b[0mos\u001b[0m\u001b[0;34m.\u001b[0m\u001b[0mmakedirs\u001b[0m\u001b[0;34m(\u001b[0m\u001b[0mdir_out\u001b[0m\u001b[0;34m)\u001b[0m\u001b[0;34m\u001b[0m\u001b[0;34m\u001b[0m\u001b[0m\n\u001b[0m\u001b[1;32m      9\u001b[0m \u001b[0;34m\u001b[0m\u001b[0m\n\u001b[1;32m     10\u001b[0m     \u001b[0;31m#read the metadata from the csv file\u001b[0m\u001b[0;34m\u001b[0m\u001b[0;34m\u001b[0m\u001b[0;34m\u001b[0m\u001b[0m\n",
      "\u001b[0;32m~/miniconda3/envs/earth-analytics-python/lib/python3.8/os.py\u001b[0m in \u001b[0;36mmakedirs\u001b[0;34m(name, mode, exist_ok)\u001b[0m\n\u001b[1;32m    221\u001b[0m             \u001b[0;32mreturn\u001b[0m\u001b[0;34m\u001b[0m\u001b[0;34m\u001b[0m\u001b[0m\n\u001b[1;32m    222\u001b[0m     \u001b[0;32mtry\u001b[0m\u001b[0;34m:\u001b[0m\u001b[0;34m\u001b[0m\u001b[0;34m\u001b[0m\u001b[0m\n\u001b[0;32m--> 223\u001b[0;31m         \u001b[0mmkdir\u001b[0m\u001b[0;34m(\u001b[0m\u001b[0mname\u001b[0m\u001b[0;34m,\u001b[0m \u001b[0mmode\u001b[0m\u001b[0;34m)\u001b[0m\u001b[0;34m\u001b[0m\u001b[0;34m\u001b[0m\u001b[0m\n\u001b[0m\u001b[1;32m    224\u001b[0m     \u001b[0;32mexcept\u001b[0m \u001b[0mOSError\u001b[0m\u001b[0;34m:\u001b[0m\u001b[0;34m\u001b[0m\u001b[0;34m\u001b[0m\u001b[0m\n\u001b[1;32m    225\u001b[0m         \u001b[0;31m# Cannot rely on checking for EEXIST, since the operating system\u001b[0m\u001b[0;34m\u001b[0m\u001b[0;34m\u001b[0m\u001b[0;34m\u001b[0m\u001b[0m\n",
      "\u001b[0;31mNotADirectoryError\u001b[0m: [Errno 20] Not a directory: '/home/naheemadebisi/PhD/snow-analytics/Radar-Backscatter/UAVSAR/Utica/utica_2021/Central Ag Research Center.png/renamed/'"
     ]
    }
   ],
   "source": [
    "#iterate over the folders u=in the directory\n",
    "dir_list = glob.glob('/home/naheemadebisi/PhD/snow-analytics/Radar-Backscatter/UAVSAR/Utica/utica_2021/*')\n",
    "for dir_ in dir_list:\n",
    "    rename(dir_, clean_dir = True)"
   ]
  },
  {
   "cell_type": "code",
   "execution_count": 13,
   "metadata": {},
   "outputs": [],
   "source": [
    "dir_ = '/home/naheemadebisi/PhD/snow-analytics/Radar-Backscatter/UAVSAR/Utica/utica_2021/uticam_21003_21002-003_21004-002_0005d_s01_L090_01_amp_grd'\n",
    "\n",
    "rename(dir_, clean_dir = True)"
   ]
  },
  {
   "cell_type": "code",
   "execution_count": null,
   "metadata": {},
   "outputs": [],
   "source": []
  }
 ],
 "metadata": {
  "interpreter": {
   "hash": "4a6b17c43e9812396a6a5107d266d4edbe6eaa1adb1fd72c08be9ea32f828148"
  },
  "kernelspec": {
   "display_name": "Python 3.8.13 ('earth-analytics-python')",
   "language": "python",
   "name": "python3"
  },
  "language_info": {
   "codemirror_mode": {
    "name": "ipython",
    "version": 3
   },
   "file_extension": ".py",
   "mimetype": "text/x-python",
   "name": "python",
   "nbconvert_exporter": "python",
   "pygments_lexer": "ipython3",
   "version": "3.8.12"
  },
  "orig_nbformat": 4
 },
 "nbformat": 4,
 "nbformat_minor": 2
}
