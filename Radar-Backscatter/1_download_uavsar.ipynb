{
 "cells": [
  {
   "cell_type": "markdown",
   "metadata": {},
   "source": [
    "This notebook file downloads UAVSAR data for the period of snow pits data [2019-01-01 to 2020-05-31]"
   ]
  },
  {
   "cell_type": "code",
   "execution_count": 1,
   "metadata": {},
   "outputs": [],
   "source": [
    "import os\n",
    "import sys\n",
    "import numpy as np\n",
    "import pandas as pd\n",
    "import matplotlib.pyplot as plt\n",
    "import seaborn as sns\n",
    "import uavsar_pytools"
   ]
  },
  {
   "cell_type": "code",
   "execution_count": 2,
   "metadata": {},
   "outputs": [],
   "source": [
    "campaign_list = ['Grand Mesa, CO',\n",
    " 'Lowman, CO',\n",
    " 'Fraser, CO',\n",
    " 'Ironton, CO',\n",
    " 'Peeler Peak, CO',\n",
    " 'Rocky Mountains NP, CO',\n",
    " 'Silver City, ID',\n",
    " 'Utica, MT',\n",
    " 'Salt Lake City, UT',\n",
    " 'Los Alamos, NM',\n",
    " 'Eldorado National Forest, CA',\n",
    " 'Donner Memorial State Park, CA',\n",
    " 'Sierra National Forest, CA']"
   ]
  },
  {
   "cell_type": "code",
   "execution_count": 3,
   "metadata": {},
   "outputs": [
    {
     "name": "stderr",
     "output_type": "stream",
     "text": [
      "INFO:uavsar_pytools.uavsar_collection:Found 6 image pairs\n",
      "INFO:uavsar_pytools.uavsar_collection:Starting on: https://datapool.asf.alaska.edu/AMPLITUDE_GRD/UA/grmesa_27416_21019-017_21021-005_0006d_s01_L090_01_amp_grd.zip\n",
      "Downloading grmesa_27416_21019-017_21021-005_0006d_s01_L090_01_amp_grd.zip: 100%|██████████| 652M/652M [05:29<00:00, 1.98MB/s] \n",
      "Unzipping: 100%|██████████| 16/16 [00:09<00:00,  1.71file/s]\n",
      "INFO:uavsar_pytools.uavsar_collection:Starting on: https://datapool.asf.alaska.edu/AMPLITUDE_GRD/UA/grmesa_27416_21017-017_21019-017_0006d_s01_L090_01_amp_grd.zip\n",
      "Downloading grmesa_27416_21017-017_21019-017_0006d_s01_L090_01_amp_grd.zip: 100%|██████████| 651M/651M [06:01<00:00, 1.80MB/s]  \n",
      "Unzipping: 100%|██████████| 16/16 [00:09<00:00,  1.71file/s]\n",
      "INFO:uavsar_pytools.uavsar_collection:Starting on: https://datapool.asf.alaska.edu/AMPLITUDE_GRD/UA/grmesa_27416_21016-002_21017-017_0007d_s01_L090_01_amp_grd.zip\n",
      "Downloading grmesa_27416_21016-002_21017-017_0007d_s01_L090_01_amp_grd.zip: 100%|██████████| 922M/922M [11:32<00:00, 1.33MB/s]  \n",
      "Unzipping: 100%|██████████| 16/16 [00:12<00:00,  1.30file/s]\n",
      "INFO:uavsar_pytools.uavsar_collection:Starting on: https://datapool.asf.alaska.edu/AMPLITUDE_GRD/UA/grmesa_27416_21011-010_21016-002_0021d_s01_L090_01_amp_grd.zip\n",
      "Downloading grmesa_27416_21011-010_21016-002_0021d_s01_L090_01_amp_grd.zip: 100%|██████████| 921M/921M [10:27<00:00, 1.47MB/s]  \n",
      "Unzipping: 100%|██████████| 16/16 [00:12<00:00,  1.30file/s]\n",
      "INFO:uavsar_pytools.uavsar_collection:Starting on: https://datapool.asf.alaska.edu/AMPLITUDE_GRD/UA/grmesa_27416_21010-002_21011-010_0007d_s01_L090_01_amp_grd.zip\n",
      "Downloading grmesa_27416_21010-002_21011-010_0007d_s01_L090_01_amp_grd.zip: 100%|██████████| 652M/652M [07:02<00:00, 1.54MB/s] \n",
      "Unzipping: 100%|██████████| 16/16 [00:11<00:00,  1.38file/s]\n",
      "INFO:uavsar_pytools.uavsar_collection:Starting on: https://datapool.asf.alaska.edu/AMPLITUDE_GRD/UA/grmesa_27416_21007-004_21010-002_0007d_s01_L090_01_amp_grd.zip\n",
      "Downloading grmesa_27416_21007-004_21010-002_0007d_s01_L090_01_amp_grd.zip: 100%|██████████| 920M/920M [09:26<00:00, 1.62MB/s]  \n",
      "Unzipping: 100%|██████████| 16/16 [00:13<00:00,  1.19file/s]\n",
      "INFO:uavsar_pytools.uavsar_collection:Found 13 image pairs\n",
      "INFO:uavsar_pytools.uavsar_collection:Starting on: https://datapool.asf.alaska.edu/AMPLITUDE_GRD/UA/lowman_05208_21019-019_21021-007_0006d_s01_L090_01_amp_grd.zip\n",
      "Downloading lowman_05208_21019-019_21021-007_0006d_s01_L090_01_amp_grd.zip: 100%|██████████| 3.51G/3.51G [38:00<00:00, 1.54MB/s] \n",
      "Unzipping: 100%|██████████| 16/16 [01:34<00:00,  5.89s/file]\n"
     ]
    },
    {
     "ename": "",
     "evalue": "",
     "output_type": "error",
     "traceback": [
      "\u001b[1;31mCanceled future for execute_request message before replies were done"
     ]
    },
    {
     "ename": "",
     "evalue": "",
     "output_type": "error",
     "traceback": [
      "The Kernel crashed while executing code in the the current cell or a previous cell. Please review the code in the cell(s) to identify a possible cause of the failure. Click <a href='https://aka.ms/vscodeJupyterKernelCrash'>here</a> for more info. View Jupyter <a href='command:jupyter.viewOutput'>log</a> for further details."
     ]
    }
   ],
   "source": [
    "# for site in campaign_list:\n",
    "#     from uavsar_pytools import UavsarCollection\n",
    "#     work_dir_ = '/home/naheemadebisi/PhD/snow-analytics/Radar-Backscatter/UAVSAR/2021' + '/' + site.split(',')[0]\n",
    "#     col = UavsarCollection(collection = site, work_dir = work_dir_, dates = ('2020-12-01', '2021-05-31'), img_type = 'AMPLITUDE_GRD')\n",
    "#     col.collection_to_tiffs()"
   ]
  },
  {
   "cell_type": "code",
   "execution_count": 2,
   "metadata": {},
   "outputs": [],
   "source": [
    "# #for CA areas which I thought would cover American River Basin\n",
    "# campaign_list = ['Eldorado National Forest, CA', 'Donner Memorial State Park, CA', 'Sierra National Forest, CA']"
   ]
  },
  {
   "cell_type": "code",
   "execution_count": 5,
   "metadata": {},
   "outputs": [],
   "source": [
    "# for site in campaign_list:\n",
    "#     from uavsar_pytools import UavsarCollection\n",
    "#     work_dir_ = '/SNOWDATA/Nah/all_uavsar_data' + '/' + site.split(',')[0]\n",
    "#     col = UavsarCollection(collection = site, work_dir = work_dir_, dates = ('2017-01-01', 'today'), img_type = 'AMPLITUDE_GRD')\n",
    "#     col.collection_to_tiffs()"
   ]
  },
  {
   "cell_type": "code",
   "execution_count": 10,
   "metadata": {},
   "outputs": [
    {
     "name": "stderr",
     "output_type": "stream",
     "text": [
      "INFO:uavsar_pytools.uavsar_collection:Found 15 image pairs\n",
      "INFO:uavsar_pytools.uavsar_collection:Starting on: https://datapool.asf.alaska.edu/AMPLITUDE_GRD/UA/stlake_27129_21020-024_21022-001_0006d_s01_L090_01_amp_grd.zip\n",
      "Downloading stlake_27129_21020-024_21022-001_0006d_s01_L090_01_amp_grd.zip: 100%|██████████| 987M/987M [03:08<00:00, 5.24MB/s]  \n",
      "Unzipping: 100%|██████████| 16/16 [00:12<00:00,  1.29file/s]\n",
      "INFO:uavsar_pytools.uavsar_collection:Starting on: https://datapool.asf.alaska.edu/AMPLITUDE_GRD/UA/stlake_09127_21020-023_21022-000_0006d_s01_L090_01_amp_grd.zip\n",
      "Downloading stlake_09127_21020-023_21022-000_0006d_s01_L090_01_amp_grd.zip: 100%|██████████| 1.00G/1.00G [04:37<00:00, 3.62MB/s]  \n",
      "Unzipping: 100%|██████████| 16/16 [00:12<00:00,  1.29file/s]\n",
      "INFO:uavsar_pytools.uavsar_collection:Starting on: https://datapool.asf.alaska.edu/AMPLITUDE_GRD/UA/stlake_27129_21018-002_21020-024_0006d_s01_L090_01_amp_grd.zip\n",
      "Downloading stlake_27129_21018-002_21020-024_0006d_s01_L090_01_amp_grd.zip: 100%|██████████| 988M/988M [03:07<00:00, 5.26MB/s]  \n",
      "Unzipping: 100%|██████████| 16/16 [00:11<00:00,  1.34file/s]\n",
      "INFO:uavsar_pytools.uavsar_collection:Starting on: https://datapool.asf.alaska.edu/AMPLITUDE_GRD/UA/stlake_09127_21018-001_21020-023_0006d_s01_L090_01_amp_grd.zip\n",
      "Downloading stlake_09127_21018-001_21020-023_0006d_s01_L090_01_amp_grd.zip: 100%|██████████| 1.01G/1.01G [01:12<00:00, 13.8MB/s] \n",
      "Unzipping: 100%|██████████| 16/16 [00:12<00:00,  1.31file/s]\n",
      "INFO:uavsar_pytools.uavsar_collection:Starting on: https://datapool.asf.alaska.edu/AMPLITUDE_GRD/UA/stlake_27129_21016-001_21018-002_0007d_s01_L090_01_amp_grd.zip\n",
      "Downloading stlake_27129_21016-001_21018-002_0007d_s01_L090_01_amp_grd.zip: 100%|██████████| 988M/988M [02:07<00:00, 7.76MB/s]  \n",
      "Unzipping: 100%|██████████| 16/16 [00:11<00:00,  1.35file/s]\n",
      "INFO:uavsar_pytools.uavsar_collection:Starting on: https://datapool.asf.alaska.edu/AMPLITUDE_GRD/UA/stlake_09127_21016-000_21018-001_0007d_s01_L090_01_amp_grd.zip\n",
      "Downloading stlake_09127_21016-000_21018-001_0007d_s01_L090_01_amp_grd.zip: 100%|██████████| 1.01G/1.01G [02:34<00:00, 6.50MB/s] \n",
      "Unzipping: 100%|██████████| 16/16 [00:12<00:00,  1.33file/s]\n",
      "INFO:uavsar_pytools.uavsar_collection:Starting on: https://datapool.asf.alaska.edu/AMPLITUDE_GRD/UA/stlake_27129_21014-001_21016-001_0008d_s01_L090_01_amp_grd.zip\n",
      "Downloading stlake_27129_21014-001_21016-001_0008d_s01_L090_01_amp_grd.zip: 100%|██████████| 988M/988M [03:03<00:00, 5.39MB/s]  \n",
      "Unzipping: 100%|██████████| 16/16 [00:12<00:00,  1.33file/s]\n",
      "INFO:uavsar_pytools.uavsar_collection:Starting on: https://datapool.asf.alaska.edu/AMPLITUDE_GRD/UA/stlake_09127_21014-000_21016-000_0008d_s01_L090_01_amp_grd.zip\n",
      "Downloading stlake_09127_21014-000_21016-000_0008d_s01_L090_01_amp_grd.zip: 100%|██████████| 1.01G/1.01G [02:41<00:00, 6.22MB/s] \n",
      "Unzipping: 100%|██████████| 16/16 [00:12<00:00,  1.31file/s]\n",
      "INFO:uavsar_pytools.uavsar_collection:Starting on: https://datapool.asf.alaska.edu/AMPLITUDE_GRD/UA/stlake_27129_21011-012_21014-001_0013d_s01_L090_01_amp_grd.zip\n",
      "Downloading stlake_27129_21011-012_21014-001_0013d_s01_L090_01_amp_grd.zip: 100%|██████████| 987M/987M [05:03<00:00, 3.25MB/s]  \n",
      "Unzipping: 100%|██████████| 16/16 [00:12<00:00,  1.30file/s]\n",
      "INFO:uavsar_pytools.uavsar_collection:Starting on: https://datapool.asf.alaska.edu/AMPLITUDE_GRD/UA/stlake_09127_21011-011_21014-000_0013d_s01_L090_01_amp_grd.zip\n",
      "Downloading stlake_09127_21011-011_21014-000_0013d_s01_L090_01_amp_grd.zip: 100%|██████████| 1.00G/1.00G [01:43<00:00, 9.70MB/s]\n",
      "Unzipping: 100%|██████████| 16/16 [00:12<00:00,  1.29file/s]\n",
      "INFO:uavsar_pytools.uavsar_collection:Starting on: https://datapool.asf.alaska.edu/AMPLITUDE_GRD/UA/stlake_27129_21010-001_21011-012_0007d_s01_L090_01_amp_grd.zip\n",
      "Downloading stlake_27129_21010-001_21011-012_0007d_s01_L090_01_amp_grd.zip: 100%|██████████| 719M/719M [01:54<00:00, 6.27MB/s] \n",
      "Unzipping: 100%|██████████| 16/16 [00:09<00:00,  1.68file/s]\n",
      "INFO:uavsar_pytools.uavsar_collection:Starting on: https://datapool.asf.alaska.edu/AMPLITUDE_GRD/UA/stlake_09127_21010-000_21011-011_0007d_s01_L090_01_amp_grd.zip\n",
      "Downloading stlake_09127_21010-000_21011-011_0007d_s01_L090_01_amp_grd.zip: 100%|██████████| 718M/718M [02:17<00:00, 5.22MB/s] \n",
      "Unzipping: 100%|██████████| 16/16 [00:09<00:00,  1.67file/s]\n",
      "INFO:uavsar_pytools.uavsar_collection:Starting on: https://datapool.asf.alaska.edu/AMPLITUDE_GRD/UA/stlake_09127_21008-001_21010-000_0006d_s01_L090_01_amp_grd.zip\n",
      "Downloading stlake_09127_21008-001_21010-000_0006d_s01_L090_01_amp_grd.zip: 100%|██████████| 719M/719M [02:46<00:00, 4.33MB/s] \n",
      "Unzipping: 100%|██████████| 16/16 [00:09<00:00,  1.67file/s]\n",
      "INFO:uavsar_pytools.uavsar_collection:Starting on: https://datapool.asf.alaska.edu/AMPLITUDE_GRD/UA/stlake_09127_21005-000_21008-001_0007d_s01_L090_01_amp_grd.zip\n",
      "Downloading stlake_09127_21005-000_21008-001_0007d_s01_L090_01_amp_grd.zip: 100%|██████████| 1.00G/1.00G [03:03<00:00, 5.48MB/s] \n",
      "Unzipping: 100%|██████████| 16/16 [00:12<00:00,  1.31file/s]\n",
      "INFO:uavsar_pytools.uavsar_collection:Starting on: https://datapool.asf.alaska.edu/AMPLITUDE_GRD/UA/stlake_09127_21003-001_21005-000_0006d_s01_L090_01_amp_grd.zip\n",
      "Downloading stlake_09127_21003-001_21005-000_0006d_s01_L090_01_amp_grd.zip: 100%|██████████| 719M/719M [02:12<00:00, 5.42MB/s] \n",
      "Unzipping: 100%|██████████| 16/16 [00:09<00:00,  1.69file/s]\n"
     ]
    }
   ],
   "source": [
    "from uavsar_pytools import UavsarCollection\n",
    "work_dir_ = '/home/naheemadebisi/PhD/snow-analytics/Radar-Backscatter/UAVSAR/saltlake/stlake_2021'\n",
    "col = UavsarCollection(collection = 'Salt Lake City, UT', work_dir = work_dir_, dates = ('2020-12-01', '2021-05-31'), img_type = 'AMPLITUDE_GRD')\n",
    "col.collection_to_tiffs()"
   ]
  },
  {
   "cell_type": "code",
   "execution_count": 5,
   "metadata": {},
   "outputs": [],
   "source": [
    "ironton = ['https://uavsar.jpl.nasa.gov/cgi-bin/product.pl?jobName=irnton_01406_20005_004_200212_L090_CX_01#data', \n",
    "'https://uavsar.jpl.nasa.gov/cgi-bin/product.pl?jobName=irnton_01406_20008_001_200219_L090_CX_01#data',\n",
    "'https://uavsar.jpl.nasa.gov/cgi-bin/product.pl?jobName=irnton_01406_20013_001_200226_L090_CX_01#data',\n",
    "'https://uavsar.jpl.nasa.gov/cgi-bin/product.pl?jobName=irnton_01406_20017_010_200312_L090_CX_01#data']"
   ]
  },
  {
   "cell_type": "code",
   "execution_count": 16,
   "metadata": {},
   "outputs": [
    {
     "name": "stderr",
     "output_type": "stream",
     "text": [
      "Downloading product.pl?jobName=irnton_01406_20005_004_200212_L090_CX_01#data: 18.1kB [00:00, 255kB/s]\n",
      "WARNING:uavsar_pytools.download.download:No ann url found. Manually provide .ann url.\n",
      "Downloading product.pl?jobName=irnton_01406_20008_001_200219_L090_CX_01#data: 18.1kB [00:00, 256kB/s]\n",
      "WARNING:uavsar_pytools.download.download:No ann url found. Manually provide .ann url.\n",
      "Downloading product.pl?jobName=irnton_01406_20013_001_200226_L090_CX_01#data: 18.1kB [00:00, 261kB/s]\n",
      "WARNING:uavsar_pytools.download.download:No ann url found. Manually provide .ann url.\n",
      "Downloading product.pl?jobName=irnton_01406_20017_010_200312_L090_CX_01#data: 18.1kB [00:00, 253kB/s]\n",
      "WARNING:uavsar_pytools.download.download:No ann url found. Manually provide .ann url.\n"
     ]
    }
   ],
   "source": [
    "for scene in ironton:\n",
    "    from uavsar_pytools import UavsarImage\n",
    "    work_dir_ = '/home/naheemadebisi/PhD/snow-analytics/Radar-Backscatter/UAVSAR/Ironton'\n",
    "    scene_img = UavsarImage(url = scene, work_dir = work_dir_)\n",
    "    scene_img.url_to_tiff()"
   ]
  },
  {
   "cell_type": "code",
   "execution_count": 4,
   "metadata": {},
   "outputs": [
    {
     "name": "stderr",
     "output_type": "stream",
     "text": [
      "WARNING:uavsar_pytools.download.download:No ann url found. Manually provide .ann url.\n"
     ]
    }
   ],
   "source": [
    "scene= 'https://uavsar.jpl.nasa.gov/cgi-bin/product.pl?jobName=fraser_05209_21002_001_210115_L090_CX_01#data'\n",
    "work_dir_ = '/home/naheemadebisi/PhD/snow-analytics/Radar-Backscatter/UAVSAR/Frazer/frazer_2021'\n",
    "ann_ = 'https://uavsar.asfdaac.alaska.edu/UA_fraser_05209_21002_001_210115_L090_CX_01/fraser_05209_21002_001_210115_L090_CX_01.ann'\n",
    "from uavsar_pytools import UavsarImage\n",
    "scene_img = UavsarImage(url = scene, work_dir = work_dir_, ann_url = ann_)\n",
    "scene_img.url_to_tiff()"
   ]
  }
 ],
 "metadata": {
  "interpreter": {
   "hash": "4a6b17c43e9812396a6a5107d266d4edbe6eaa1adb1fd72c08be9ea32f828148"
  },
  "kernelspec": {
   "display_name": "Python 3.8.13 ('earth-analytics-python')",
   "language": "python",
   "name": "python3"
  },
  "language_info": {
   "codemirror_mode": {
    "name": "ipython",
    "version": 3
   },
   "file_extension": ".py",
   "mimetype": "text/x-python",
   "name": "python",
   "nbconvert_exporter": "python",
   "pygments_lexer": "ipython3",
   "version": "3.8.12"
  },
  "orig_nbformat": 4
 },
 "nbformat": 4,
 "nbformat_minor": 2
}
