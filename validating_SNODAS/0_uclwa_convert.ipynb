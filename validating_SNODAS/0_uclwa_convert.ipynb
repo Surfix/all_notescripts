{
 "cells": [
  {
   "cell_type": "markdown",
   "metadata": {},
   "source": [
    "In this notebook, I extracted the required snow depth data from uclwa nc file. \n",
    "Firstly, I downloaded a 1 deg by 1 deg shapefile (2021_UCLWA/location_grid/jb757gw0658.shp). I loaded the shapefile and all lidar data in qgis (map_uclwa.qgz) and determined the lat and lon of the lower left corner that the lidar data fall into. Then I downloaded the corresponding nc and xml files for each date of lidar (see google doc) from [NSIDC](https://n5eil01u.ecs.nsidc.org/SNOWEX/WUS_UCLA_SR.001/). \n",
    "I read the data with xarray, calculated the water year for the date the lidar was acquired. Then I subset the nc file to only the water year of interest and save with original name with _sel surfix.\n",
    "Finally, I used gdal_translate to convert, supplying the coordinate info in the corresponding xml file to translate each nc file to tiff"
   ]
  },
  {
   "cell_type": "code",
   "execution_count": 47,
   "metadata": {},
   "outputs": [],
   "source": [
    "import numpy as np\n",
    "import pandas as pd\n",
    "import matplotlib.pyplot as plt\n",
    "import xarray as xr\n",
    "import cartopy.crs as ccrs\n",
    "import datetime\n",
    "import os\n",
    "from pathlib import Path, PurePath"
   ]
  },
  {
   "cell_type": "code",
   "execution_count": 17,
   "metadata": {},
   "outputs": [],
   "source": [
    "def nc_tiff(url_, year, month, date):\n",
    "    #read the nc file as array\n",
    "    sd = xr.open_dataarray(url_)\n",
    "    # find water year\n",
    "    wy = (datetime.date(2021, 3, 19) - datetime.date(2020, 10, 1)).days\n",
    "    #sel the water year \n",
    "    sd_sel = sd.sel(Stats = 0, Day = wy)\n",
    "    #save the selected files with sel surfix\n",
    "    sd_sel.to_netcdf(Path(url_).stem + '_sel.nc') # I used .stem() from pathlib\n",
    "\n"
   ]
  },
  {
   "cell_type": "code",
   "execution_count": 58,
   "metadata": {},
   "outputs": [],
   "source": [
    "nc_tiff('/home/naheemadebisi/PhD/snow-analytics/lidar/validating_SNODAS/data_results/2021_UCLWA/WUS_UCLA_SR_v01_N40_0W112_0_agg_16_WY2020_21_SD_POST.nc',\n",
    "        2021, 3, 18)"
   ]
  },
  {
   "cell_type": "code",
   "execution_count": null,
   "metadata": {},
   "outputs": [],
   "source": [
    "/home/naheemadebisi/PhD/snow-analytics/lidar/validating_SNODAS/data_results/2020_UCLWA/WUS_UCLA_SR_v01_N39_0W106_0_agg_16_WY2019_20_SD_POST_sel.nc"
   ]
  },
  {
   "cell_type": "code",
   "execution_count": 88,
   "metadata": {},
   "outputs": [
    {
     "name": "stdout",
     "output_type": "stream",
     "text": [
      "Input file size is 225, 225\n",
      "0...10...20...30...40...50...60...70...80...90...100 - done.\n"
     ]
    }
   ],
   "source": [
    "#!gdal_translate -a_srs EPSG:4326 -a_ullr <ulx> <uly> <lrx> <lry> src dst\n",
    "#!gdal_translate -a_srs EPSG:4326 -a_ullr xmin ymax xmax ymin src dst\n",
    "#!gdal_translate -a_srs EPSG:4326 -a_ullr W N E S src dst\n",
    "\n",
    "!gdal_translate -a_srs EPSG:4326 -a_ullr -111.998 40.9978 -111.001 40.0023 /home/naheemadebisi/PhD/snow-analytics/lidar/validating_SNODAS/data_results/2021_UCLWA/WUS_UCLA_SR_v01_N40_0W112_0_agg_16_WY2020_21_SD_POST_sel.nc USUTLC_20210318.tiff"
   ]
  },
  {
   "cell_type": "code",
   "execution_count": null,
   "metadata": {},
   "outputs": [],
   "source": []
  }
 ],
 "metadata": {
  "kernelspec": {
   "display_name": "Python 3.8.12 ('earth-analytics-python')",
   "language": "python",
   "name": "python3"
  },
  "language_info": {
   "codemirror_mode": {
    "name": "ipython",
    "version": 3
   },
   "file_extension": ".py",
   "mimetype": "text/x-python",
   "name": "python",
   "nbconvert_exporter": "python",
   "pygments_lexer": "ipython3",
   "version": "3.8.12"
  },
  "orig_nbformat": 4,
  "vscode": {
   "interpreter": {
    "hash": "4a6b17c43e9812396a6a5107d266d4edbe6eaa1adb1fd72c08be9ea32f828148"
   }
  }
 },
 "nbformat": 4,
 "nbformat_minor": 2
}
